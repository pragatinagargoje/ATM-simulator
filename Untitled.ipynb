{
 "cells": [
  {
   "cell_type": "code",
   "execution_count": 1,
   "id": "08c67361-d862-42ef-bb08-5b09f7300dbb",
   "metadata": {},
   "outputs": [],
   "source": [
    "import cv2\n",
    "import pandas as pd"
   ]
  },
  {
   "cell_type": "code",
   "execution_count": 3,
   "id": "c70700f4-a4fb-4688-9aa2-93e03935029e",
   "metadata": {},
   "outputs": [],
   "source": [
    "img_path=r\"C:\\Users\\Lenovo\\Downloads\\krishn.jpeg\""
   ]
  },
  {
   "cell_type": "code",
   "execution_count": null,
   "id": "7a881714-1661-4594-80b8-ed35ea3398c3",
   "metadata": {},
   "outputs": [],
   "source": [
    "img=cv2.imread(\"C:\\Users\\Lenovo\\Downloads\\krishn.jpeg\")"
   ]
  },
  {
   "cell_type": "code",
   "execution_count": null,
   "id": "a0ea5fa3-0eaa-46bf-b172-e3009c4c0deb",
   "metadata": {},
   "outputs": [],
   "source": [
    "clicked = False\n"
   ]
  },
  {
   "cell_type": "code",
   "execution_count": null,
   "id": "82651636-aeec-4ae7-851d-1775e4dcd1e3",
   "metadata": {},
   "outputs": [],
   "source": [
    "csv_path = r\"C:\\Users\\Lenovo\\Downloads\\colors (1).csv\"\n"
   ]
  },
  {
   "cell_type": "code",
   "execution_count": null,
   "id": "5f31b29e-4848-4f7c-83da-2c627496c06c",
   "metadata": {},
   "outputs": [],
   "source": [
    "r=g=b=x_pos=y_pos=0\n"
   ]
  },
  {
   "cell_type": "code",
   "execution_count": null,
   "id": "ee063fe8-8b43-4e68-ba10-88a0a17f467b",
   "metadata": {},
   "outputs": [],
   "source": [
    "\n",
    "index = [\"color\", \"color_name\", \"hex\", \"R\", \"G\", \"B\"]\n",
    "csv = pd.read_csv(r'C:\\Users\\Lenovo\\Downloads\\colors (1).csv', names=index, header=None)"
   ]
  },
  {
   "cell_type": "code",
   "execution_count": null,
   "id": "ef6b0542-7272-4885-8d5b-ff47827aa744",
   "metadata": {},
   "outputs": [],
   "source": [
    "# function to calculate minimum distance from all colors and get the most matching color\n",
    "def get_color_name(R, G, B):\n",
    "    minimum = 10000\n",
    "    for i in range(len(csv)):\n",
    "        d = abs(R - int(csv.loc[i, \"R\"])) + abs(G - int(csv.loc[i, \"G\"])) + abs(B - int(csv.loc[i, \"B\"]))\n",
    "        if d <= minimum:\n",
    "            minimum = d\n",
    "            cname = csv.loc[i, \"color_name\"]\n",
    "    return cname\n"
   ]
  },
  {
   "cell_type": "code",
   "execution_count": null,
   "id": "5d308e49-ff9f-45eb-bf1c-fca4b5632836",
   "metadata": {},
   "outputs": [],
   "source": [
    "# function to get x,y coordinates of mouse double click\n",
    "def draw_function(event, x, y, flags, param):\n",
    "    if event == cv2.EVENT_LBUTTONDBLCLK:\n",
    "        global b, g, r, x_pos, y_pos, clicked\n",
    "        clicked = True\n",
    "        x_pos = x\n",
    "        y_pos = y\n",
    "        b, g, r = img[y, x]\n",
    "        b = int(b)\n",
    "        g = int(g)\n",
    "        r = int(r)"
   ]
  },
  {
   "cell_type": "code",
   "execution_count": null,
   "id": "63d55da4-828b-482a-9dab-cedb6edecbbb",
   "metadata": {},
   "outputs": [],
   "source": [
    "cv2.namedWindow('image')\n",
    "cv2.setMouseCallback('image', draw_function)"
   ]
  },
  {
   "cell_type": "code",
   "execution_count": null,
   "id": "56b4d2b2-8c02-41f9-905e-27fce3d113bb",
   "metadata": {},
   "outputs": [],
   "source": [
    "\n",
    "while True:\n",
    "\n",
    "    cv2.imshow(\"image\", img)\n",
    "    if clicked:\n",
    "          # cv2.rectangle(image, start point, endpoint, color, thickness)-1 fills entire rectangle\n",
    "        cv2.rectangle(img, (20, 20), (750, 60), (b, g, r), -1)\n",
    "\n",
    "        # Creating text string to display( Color name and RGB values )\n",
    "        text = get_color_name(r, g, b) + ' R=' + str(r) + ' G=' + str(g) + ' B=' + str(b)\n",
    "\n",
    "        # cv2.putText(img,text,start,font(0-7),fontScale,color,thickness,lineType )\n",
    "        cv2.putText(img, text, (50, 50), 2, 0.8, (255, 255, 255), 2, cv2.LINE_AA)\n",
    "\n",
    "        # For very light colours we will display text in black colour\n",
    "        if r + g + b >= 600:\n",
    "            cv2.putText(img, text, (50, 50), 2, 0.8, (0, 0, 0), 2, cv2.LINE_AA)\n",
    "\n",
    "        clicked = False\n",
    "\n",
    "    # Break the loop when user hits 'esc' key\n",
    "    if cv2.waitKey(20) & 0xFF == 27:\n",
    "        break\n",
    "\n",
    "cv2.destroyAllWindows()\n"
   ]
  }
 ],
 "metadata": {
  "kernelspec": {
   "display_name": "Python 3 (ipykernel)",
   "language": "python",
   "name": "python3"
  },
  "language_info": {
   "codemirror_mode": {
    "name": "ipython",
    "version": 3
   },
   "file_extension": ".py",
   "mimetype": "text/x-python",
   "name": "python",
   "nbconvert_exporter": "python",
   "pygments_lexer": "ipython3",
   "version": "3.12.0"
  }
 },
 "nbformat": 4,
 "nbformat_minor": 5
}
